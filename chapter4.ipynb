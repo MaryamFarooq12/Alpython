{
 "cells": [
  {
   "cell_type": "code",
   "execution_count": 1,
   "id": "b517d2c6",
   "metadata": {},
   "outputs": [
    {
     "name": "stdout",
     "output_type": "stream",
     "text": [
      "1231\n",
      "124\n"
     ]
    }
   ],
   "source": [
    "sval = '123'\n",
    "# Assign the string '123' to the variable sval.\n",
    "\n",
    "type(sval)\n",
    "# Check the type of sval, which is a string (str).\n",
    "\n",
    "print(sval + '1')\n",
    "# This line concatenates the string sval with the string '1'.\n",
    "# This will print '1231'.\n",
    "\n",
    "ival = int(sval)\n",
    "# Convert the string sval to an integer and assign it to the variable ival.\n",
    "\n",
    "type(ival)\n",
    "# Check the type of ival, which is now an integer (int).\n",
    "\n",
    "print(ival + 1)\n",
    "# Add 1 to the integer ival and print the result, which is 124.\n",
    "\n",
    "nsv = 'hello bob'\n",
    "# Assign the string 'hello bob' to the variable nsv.\n",
    "\n",
    "# The following line attempts to convert the string nsv to an integer,\n",
    "# but it raises a ValueError because 'hello bob' is not a valid integer literal.\n",
    "# You cannot convert this string to an integer."
   ]
  },
  {
   "cell_type": "code",
   "execution_count": 2,
   "id": "9c892e89",
   "metadata": {},
   "outputs": [
    {
     "name": "stdout",
     "output_type": "stream",
     "text": [
      "Hello\n",
      "Yo\n",
      "I'm a lumberjack, and I'm okay.\n",
      "I sleep all night and I work all day.\n",
      "7\n"
     ]
    }
   ],
   "source": [
    "x = 5\n",
    "print('Hello')\n",
    "\n",
    "def print_lyrics():\n",
    "    print(\"I'm a lumberjack, and I'm okay.\")\n",
    "    print('I sleep all night and I work all day.')\n",
    "\n",
    "print('Yo')\n",
    "print_lyrics()  # Call the print_lyrics function\n",
    "x = x + 2\n",
    "print(x)"
   ]
  },
  {
   "cell_type": "code",
   "execution_count": 5,
   "id": "96155966",
   "metadata": {},
   "outputs": [
    {
     "name": "stdout",
     "output_type": "stream",
     "text": [
      "Hello\n",
      "Hola\n",
      "Bonjour\n"
     ]
    }
   ],
   "source": [
    "def greet(lang):\n",
    "    if lang == 'es':\n",
    "        print('Hola')\n",
    "    elif lang == 'fr':\n",
    "        print('Bonjour')\n",
    "    else:\n",
    "        print('Hello')\n",
    "\n",
    "greet('en')  # Calls greet with 'en' as the argument, which prints 'Hello'\n",
    "greet('es')  # Calls greet with 'es' as the argument, which prints 'Hola'\n",
    "greet('fr')  # Calls greet with 'fr' as the argument, which prints 'Bonjour'\n"
   ]
  },
  {
   "cell_type": "code",
   "execution_count": 4,
   "id": "a01ad6af",
   "metadata": {},
   "outputs": [
    {
     "name": "stdout",
     "output_type": "stream",
     "text": [
      "Hello Glenn\n",
      "Hello Sally\n"
     ]
    }
   ],
   "source": [
    "def greet():\n",
    "    return \"Hello\"\n",
    "\n",
    "print(greet(), \"Glenn\")  # Calls greet(), which returns \"Hello\", and prints \"Hello Glenn\"\n",
    "print(greet(), \"Sally\")  # Calls greet(), which returns \"Hello\", and prints "
   ]
  },
  {
   "cell_type": "code",
   "execution_count": 6,
   "id": "c274fc3a",
   "metadata": {},
   "outputs": [
    {
     "name": "stdout",
     "output_type": "stream",
     "text": [
      "Hello Glenn\n",
      "Hola Sally\n",
      "Bonjour Michael\n"
     ]
    }
   ],
   "source": [
    "def greet(lang):\n",
    "    if lang == 'es':\n",
    "        return 'Hola'\n",
    "    elif lang == 'fr':\n",
    "        return 'Bonjour'\n",
    "    else:\n",
    "        return 'Hello'\n",
    "\n",
    "print(greet('en'), 'Glenn')  # Calls greet('en') and prints \"Hello Glenn\"\n",
    "print(greet('es'), 'Sally')  # Calls greet('es') and prints \"Hola Sally\"\n",
    "print(greet('fr'), 'Michael')  # Calls greet('fr') and prints \"Bonjour Michael\""
   ]
  },
  {
   "cell_type": "code",
   "execution_count": 7,
   "id": "04a13acd",
   "metadata": {},
   "outputs": [
    {
     "name": "stdout",
     "output_type": "stream",
     "text": [
      "8\n"
     ]
    }
   ],
   "source": [
    "def addtwo(a, b):\n",
    "    added = a + b\n",
    "    return added\n",
    "\n",
    "x = addtwo(3, 5)\n",
    "print(x)"
   ]
  },
  {
   "cell_type": "code",
   "execution_count": 8,
   "id": "0c1b37a9",
   "metadata": {},
   "outputs": [
    {
     "name": "stdout",
     "output_type": "stream",
     "text": [
      "Hello\n",
      "Yo\n",
      "7\n"
     ]
    }
   ],
   "source": [
    "x = 5\n",
    "print('Hello')\n",
    "\n",
    "def print_lyrics():\n",
    "    print(\"I'm a lumberjack, and I'm okay.\")\n",
    "    print('I sleep all night and I work all day.')\n",
    "\n",
    "print('Yo')\n",
    "x = x + 2\n",
    "print(x)"
   ]
  },
  {
   "cell_type": "code",
   "execution_count": 9,
   "id": "3900d546",
   "metadata": {},
   "outputs": [
    {
     "name": "stdout",
     "output_type": "stream",
     "text": [
      "0.99\n",
      "<class 'int'>\n",
      "42.0\n",
      "<class 'float'>\n",
      "-2.5\n"
     ]
    }
   ],
   "source": [
    "result1 = float(99) / 100\n",
    "print(result1)  # Output: 0.99\n",
    "\n",
    "i = 42\n",
    "print(type(i))  # Output: <class 'int'>\n",
    "\n",
    "f = float(i)\n",
    "print(f)  # Output: 42.0\n",
    "\n",
    "print(type(f))  # Output: <class 'float'>\n",
    "\n",
    "result2 = 1 + 2 * float(3) / 4 - 5\n",
    "print(result2)  # Output: -2.5"
   ]
  },
  {
   "cell_type": "code",
   "execution_count": 10,
   "id": "de88ee0b",
   "metadata": {},
   "outputs": [
    {
     "name": "stdout",
     "output_type": "stream",
     "text": [
      "w\n",
      " \n"
     ]
    }
   ],
   "source": [
    "big = max('Hello world')\n",
    "print(big)\n",
    "\n",
    "tiny = min('Hello world')\n",
    "print(tiny)"
   ]
  },
  {
   "cell_type": "code",
   "execution_count": 11,
   "id": "f67135ea",
   "metadata": {},
   "outputs": [
    {
     "name": "stdout",
     "output_type": "stream",
     "text": [
      "w\n"
     ]
    }
   ],
   "source": [
    "big = max('Hello world')\n",
    "print(big)"
   ]
  },
  {
   "cell_type": "code",
   "execution_count": 12,
   "id": "e93a7b42",
   "metadata": {},
   "outputs": [
    {
     "name": "stdout",
     "output_type": "stream",
     "text": [
      "Hello\n",
      "Fun\n",
      "Zip\n",
      "Hello\n",
      "Fun\n"
     ]
    }
   ],
   "source": [
    "def thing():\n",
    "    print('Hello')\n",
    "    print('Fun')\n",
    "\n",
    "thing()  # Call the function and print \"Hello\" and \"Fun\"\n",
    "print('Zip')\n",
    "thing()  # Call the function again and print \"Hello\" and \"Fun\""
   ]
  },
  {
   "cell_type": "code",
   "execution_count": null,
   "id": "6f037f23",
   "metadata": {},
   "outputs": [],
   "source": []
  }
 ],
 "metadata": {
  "kernelspec": {
   "display_name": "Python 3 (ipykernel)",
   "language": "python",
   "name": "python3"
  },
  "language_info": {
   "codemirror_mode": {
    "name": "ipython",
    "version": 3
   },
   "file_extension": ".py",
   "mimetype": "text/x-python",
   "name": "python",
   "nbconvert_exporter": "python",
   "pygments_lexer": "ipython3",
   "version": "3.11.4"
  }
 },
 "nbformat": 4,
 "nbformat_minor": 5
}

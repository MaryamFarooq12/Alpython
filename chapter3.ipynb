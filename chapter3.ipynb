{
 "cells": [
  {
   "cell_type": "code",
   "execution_count": 3,
   "id": "323066d2",
   "metadata": {},
   "outputs": [
    {
     "name": "stdout",
     "output_type": "stream",
     "text": [
      "Smaller\n",
      "Finis\n"
     ]
    }
   ],
   "source": [
    "x=5\n",
    "if x<10:\n",
    "    print('Smaller')\n",
    "if x>20:\n",
    "    print('Bigger')\n",
    "print('Finis')"
   ]
  },
  {
   "cell_type": "code",
   "execution_count": 4,
   "id": "1bfa7e6a",
   "metadata": {},
   "outputs": [
    {
     "name": "stdout",
     "output_type": "stream",
     "text": [
      "Equals 5\n",
      "Greater than 4\n",
      "Greater than or Equals 5\n",
      "Less than 6\n",
      "Less than or Equals 5\n",
      "Not equal 6\n"
     ]
    }
   ],
   "source": [
    "x=5\n",
    "if x==5:\n",
    "    print('Equals 5')\n",
    "if x>4:\n",
    "    print('Greater than 4')\n",
    "if x>=5:\n",
    "    print('Greater than or Equals 5')\n",
    "if x<6:\n",
    "    print('Less than 6')\n",
    "if x<=5:\n",
    "    print('Less than or Equals 5')\n",
    "if x!=6:\n",
    "    print('Not equal 6')"
   ]
  },
  {
   "cell_type": "code",
   "execution_count": 5,
   "id": "333b0d40",
   "metadata": {},
   "outputs": [
    {
     "name": "stdout",
     "output_type": "stream",
     "text": [
      "Before 5\n",
      "Is 5\n",
      "Is Still 5\n",
      "Third 5\n",
      "Afterwards 5\n",
      "Before 6\n",
      "Afterwards 6\n"
     ]
    }
   ],
   "source": [
    "x=5\n",
    "print('Before 5')\n",
    "if x==5:\n",
    "    print('Is 5')\n",
    "    print('Is Still 5')\n",
    "    print('Third 5')\n",
    "print('Afterwards 5')\n",
    "print('Before 6')\n",
    "if x==6:\n",
    "    print('Is 6')\n",
    "    print('Is Still 6')\n",
    "    print('Third 6')\n",
    "print('Afterwards 6')"
   ]
  },
  {
   "cell_type": "code",
   "execution_count": 6,
   "id": "b0830834",
   "metadata": {},
   "outputs": [
    {
     "name": "stdout",
     "output_type": "stream",
     "text": [
      "Bigger Than 2\n",
      "Still Bigger\n",
      "Done with 2\n",
      "0\n",
      "Done with i 0\n",
      "1\n",
      "Done with i 1\n",
      "2\n",
      "Done with i 2\n",
      "3\n",
      "Bigger Than 2\n",
      "Done with i 3\n",
      "4\n",
      "Bigger Than 2\n",
      "Done with i 4\n",
      "Áll Done\n"
     ]
    }
   ],
   "source": [
    "x=5\n",
    "if x>2:\n",
    "    print('Bigger Than 2')\n",
    "    print('Still Bigger')\n",
    "print('Done with 2')\n",
    "for i in range(5):\n",
    "    print(i)\n",
    "    if i>2:\n",
    "        print('Bigger Than 2')\n",
    "    print('Done with i',i)\n",
    "print('Áll Done')"
   ]
  },
  {
   "cell_type": "code",
   "execution_count": 7,
   "id": "f6aeff29",
   "metadata": {},
   "outputs": [
    {
     "name": "stdout",
     "output_type": "stream",
     "text": [
      "More than one\n",
      "Less than 100\n",
      "Áll done\n"
     ]
    }
   ],
   "source": [
    "x=42\n",
    "if x>1:\n",
    "    print('More than one')\n",
    "    if x<100:\n",
    "        print('Less than 100')\n",
    "print('Áll done')"
   ]
  },
  {
   "cell_type": "code",
   "execution_count": 8,
   "id": "05c3e2ab",
   "metadata": {},
   "outputs": [
    {
     "name": "stdout",
     "output_type": "stream",
     "text": [
      "Bigger\n",
      "All done\n"
     ]
    }
   ],
   "source": [
    "x=4\n",
    "if x>2:\n",
    "    print('Bigger')\n",
    "else:\n",
    "    print('Smaller')\n",
    "print('All done')"
   ]
  },
  {
   "cell_type": "code",
   "execution_count": 9,
   "id": "f50f53bd",
   "metadata": {},
   "outputs": [
    {
     "name": "stdout",
     "output_type": "stream",
     "text": [
      "Medium\n",
      "All done\n"
     ]
    }
   ],
   "source": [
    "if x<2:\n",
    "    print('small')\n",
    "elif x<10:\n",
    "    print('Medium')\n",
    "else:\n",
    "    print('Large')\n",
    "print('All done')"
   ]
  },
  {
   "cell_type": "code",
   "execution_count": 10,
   "id": "3f0ae86e",
   "metadata": {},
   "outputs": [
    {
     "name": "stdout",
     "output_type": "stream",
     "text": [
      "Medium\n"
     ]
    }
   ],
   "source": [
    "if x<2:\n",
    "    print('small')\n",
    "elif x<10:\n",
    "    print('Medium')\n",
    "elif x<20:\n",
    "    print('Big')\n",
    "elif x<40:\n",
    "    print('Large')\n",
    "elif x<100:\n",
    "    print('Huge')\n",
    "else:\n",
    "    print('Ginormous')"
   ]
  },
  {
   "cell_type": "code",
   "execution_count": 11,
   "id": "2057385b",
   "metadata": {},
   "outputs": [
    {
     "name": "stdout",
     "output_type": "stream",
     "text": [
      "Below 20\n"
     ]
    }
   ],
   "source": [
    "if x<2:\n",
    "    print('Below 2')\n",
    "elif x<20:\n",
    "    print('Below 20')\n",
    "elif x<10:\n",
    "    print('Below 10')\n",
    "else:\n",
    "    print('Something else')"
   ]
  },
  {
   "cell_type": "code",
   "execution_count": 12,
   "id": "4c1aa492",
   "metadata": {},
   "outputs": [
    {
     "ename": "ValueError",
     "evalue": "invalid literal for int() with base 10: 'Hello Bob'",
     "output_type": "error",
     "traceback": [
      "\u001b[1;31m---------------------------------------------------------------------------\u001b[0m",
      "\u001b[1;31mValueError\u001b[0m                                Traceback (most recent call last)",
      "Cell \u001b[1;32mIn[12], line 2\u001b[0m\n\u001b[0;32m      1\u001b[0m astr\u001b[38;5;241m=\u001b[39m\u001b[38;5;124m'\u001b[39m\u001b[38;5;124mHello Bob\u001b[39m\u001b[38;5;124m'\u001b[39m\n\u001b[1;32m----> 2\u001b[0m istr\u001b[38;5;241m=\u001b[39m\u001b[38;5;28mint\u001b[39m(astr)\n\u001b[0;32m      3\u001b[0m \u001b[38;5;28mprint\u001b[39m(\u001b[38;5;124m'\u001b[39m\u001b[38;5;124mFirst\u001b[39m\u001b[38;5;124m'\u001b[39m,istr)\n\u001b[0;32m      4\u001b[0m astr\u001b[38;5;241m=\u001b[39m\u001b[38;5;124m'\u001b[39m\u001b[38;5;124m123\u001b[39m\u001b[38;5;124m'\u001b[39m\n",
      "\u001b[1;31mValueError\u001b[0m: invalid literal for int() with base 10: 'Hello Bob'"
     ]
    }
   ],
   "source": [
    "astr='Hello Bob'\n",
    "istr=int(astr)\n",
    "print('First',istr)\n",
    "astr='123'\n",
    "istr=int(astr)\n",
    "print('Second',istr)"
   ]
  },
  {
   "cell_type": "code",
   "execution_count": 13,
   "id": "5b9f0428",
   "metadata": {},
   "outputs": [
    {
     "name": "stdout",
     "output_type": "stream",
     "text": [
      "First -1\n",
      "Second 123\n"
     ]
    }
   ],
   "source": [
    "astr='Hello Bob'\n",
    "try:\n",
    "    istr=int(astr)\n",
    "except:\n",
    "    istr=-1\n",
    "print('First',istr)\n",
    "astr='123'\n",
    "try:\n",
    "    istr=int(astr)\n",
    "except:\n",
    "    istr=-1\n",
    "print('Second',istr)"
   ]
  },
  {
   "cell_type": "code",
   "execution_count": 14,
   "id": "9077a491",
   "metadata": {},
   "outputs": [
    {
     "name": "stdout",
     "output_type": "stream",
     "text": [
      "Hello\n",
      "Done -1\n"
     ]
    }
   ],
   "source": [
    "astr='Bob'\n",
    "try:\n",
    "    print('Hello')\n",
    "    istr=int(astr)\n",
    "    print('There')\n",
    "except:\n",
    "    istr=-1\n",
    "print('Done',istr)"
   ]
  },
  {
   "cell_type": "code",
   "execution_count": 15,
   "id": "0fc4d906",
   "metadata": {},
   "outputs": [
    {
     "name": "stdout",
     "output_type": "stream",
     "text": [
      "Enter a number:11\n",
      "Nice work\n"
     ]
    }
   ],
   "source": [
    "rawstr=input('Enter a number:')\n",
    "try:\n",
    "    ival=int(rawstr)\n",
    "except:\n",
    "    ival=-1\n",
    "if ival>0:\n",
    "    print('Nice work')\n",
    "else:\n",
    "    print('Not a number')\n",
    "    "
   ]
  },
  {
   "cell_type": "code",
   "execution_count": 16,
   "id": "ac4fe705",
   "metadata": {},
   "outputs": [
    {
     "name": "stdout",
     "output_type": "stream",
     "text": [
      "Enter Hours: 45\n",
      "Enter Rate: 10\n",
      "Pay: 475.0\n"
     ]
    }
   ],
   "source": [
    "hours=float(input('Enter Hours: '))\n",
    "rate=float(input('Enter Rate: '))\n",
    "if hours<=40:\n",
    "    pay=hours*rate\n",
    "else:\n",
    "    regular_pay=40*rate\n",
    "    overtime_pay=(hours-40)*(rate*1.5)\n",
    "    pay=regular_pay+overtime_pay\n",
    "print('Pay:',pay)"
   ]
  },
  {
   "cell_type": "code",
   "execution_count": 17,
   "id": "24c4796b",
   "metadata": {},
   "outputs": [
    {
     "name": "stdout",
     "output_type": "stream",
     "text": [
      "Enter Hours: 35\n",
      "Enter Rate: 44\n",
      "Pay: 1540.0\n"
     ]
    }
   ],
   "source": [
    "try:\n",
    "    hours=float(input('Enter Hours: '))\n",
    "    rate=float(input('Enter Rate: '))\n",
    "    if hours<=40:\n",
    "        pay=hours*rate\n",
    "    else:\n",
    "        regular_pay=40*rate\n",
    "        overtime_pay=(hours-40)*(rate*1.5)\n",
    "        pay=regular_pay+overtime_pay\n",
    "    print('Pay:',pay)\n",
    "except:\n",
    "    print('Error, Enter Numeric Input')\n",
    "    "
   ]
  },
  {
   "cell_type": "code",
   "execution_count": null,
   "id": "819325e5",
   "metadata": {},
   "outputs": [],
   "source": []
  }
 ],
 "metadata": {
  "kernelspec": {
   "display_name": "Python 3 (ipykernel)",
   "language": "python",
   "name": "python3"
  },
  "language_info": {
   "codemirror_mode": {
    "name": "ipython",
    "version": 3
   },
   "file_extension": ".py",
   "mimetype": "text/x-python",
   "name": "python",
   "nbconvert_exporter": "python",
   "pygments_lexer": "ipython3",
   "version": "3.11.4"
  }
 },
 "nbformat": 4,
 "nbformat_minor": 5
}

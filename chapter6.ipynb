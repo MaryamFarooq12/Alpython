{
 "cells": [
  {
   "cell_type": "code",
   "execution_count": 2,
   "id": "2bd3a832",
   "metadata": {},
   "outputs": [
    {
     "name": "stdout",
     "output_type": "stream",
     "text": [
      "Hellothere\n"
     ]
    }
   ],
   "source": [
    "#string data type\n",
    "str1=\"Hello\"\n",
    "str2=\"there\"\n",
    "bob=str1+str2\n",
    "print(bob)"
   ]
  },
  {
   "cell_type": "code",
   "execution_count": 3,
   "id": "947b7194",
   "metadata": {},
   "outputs": [
    {
     "ename": "TypeError",
     "evalue": "can only concatenate str (not \"int\") to str",
     "output_type": "error",
     "traceback": [
      "\u001b[1;31m---------------------------------------------------------------------------\u001b[0m",
      "\u001b[1;31mTypeError\u001b[0m                                 Traceback (most recent call last)",
      "Cell \u001b[1;32mIn[3], line 2\u001b[0m\n\u001b[0;32m      1\u001b[0m str3\u001b[38;5;241m=\u001b[39m\u001b[38;5;124m'\u001b[39m\u001b[38;5;124m123\u001b[39m\u001b[38;5;124m'\u001b[39m\n\u001b[1;32m----> 2\u001b[0m str3\u001b[38;5;241m=\u001b[39mstr3\u001b[38;5;241m+\u001b[39m\u001b[38;5;241m1\u001b[39m\n",
      "\u001b[1;31mTypeError\u001b[0m: can only concatenate str (not \"int\") to str"
     ]
    }
   ],
   "source": [
    "str3='123'\n",
    "str3=str3+1"
   ]
  },
  {
   "cell_type": "code",
   "execution_count": 4,
   "id": "97b74e31",
   "metadata": {},
   "outputs": [
    {
     "name": "stdout",
     "output_type": "stream",
     "text": [
      "124\n"
     ]
    }
   ],
   "source": [
    "x=int(str3)+1\n",
    "print(x)"
   ]
  },
  {
   "cell_type": "code",
   "execution_count": 5,
   "id": "ae235f1f",
   "metadata": {},
   "outputs": [
    {
     "name": "stdout",
     "output_type": "stream",
     "text": [
      "Enter:chuck\n"
     ]
    }
   ],
   "source": [
    "name=input(\"Enter:\")"
   ]
  },
  {
   "cell_type": "code",
   "execution_count": 6,
   "id": "caf879bc",
   "metadata": {},
   "outputs": [
    {
     "name": "stdout",
     "output_type": "stream",
     "text": [
      "chuck\n"
     ]
    }
   ],
   "source": [
    "print(name)"
   ]
  },
  {
   "cell_type": "code",
   "execution_count": 7,
   "id": "001188bc",
   "metadata": {},
   "outputs": [
    {
     "name": "stdout",
     "output_type": "stream",
     "text": [
      "Enter:100\n"
     ]
    }
   ],
   "source": [
    "apple=input('Enter:')"
   ]
  },
  {
   "cell_type": "code",
   "execution_count": 8,
   "id": "51642003",
   "metadata": {},
   "outputs": [
    {
     "ename": "TypeError",
     "evalue": "unsupported operand type(s) for -: 'str' and 'int'",
     "output_type": "error",
     "traceback": [
      "\u001b[1;31m---------------------------------------------------------------------------\u001b[0m",
      "\u001b[1;31mTypeError\u001b[0m                                 Traceback (most recent call last)",
      "Cell \u001b[1;32mIn[8], line 1\u001b[0m\n\u001b[1;32m----> 1\u001b[0m x\u001b[38;5;241m=\u001b[39mapple\u001b[38;5;241m-\u001b[39m\u001b[38;5;241m10\u001b[39m\n",
      "\u001b[1;31mTypeError\u001b[0m: unsupported operand type(s) for -: 'str' and 'int'"
     ]
    }
   ],
   "source": [
    "x=apple-10"
   ]
  },
  {
   "cell_type": "code",
   "execution_count": 9,
   "id": "759d866a",
   "metadata": {},
   "outputs": [
    {
     "name": "stdout",
     "output_type": "stream",
     "text": [
      "90\n"
     ]
    }
   ],
   "source": [
    "x=int(apple)-10\n",
    "print(x)"
   ]
  },
  {
   "cell_type": "code",
   "execution_count": 10,
   "id": "0204ce7d",
   "metadata": {},
   "outputs": [
    {
     "name": "stdout",
     "output_type": "stream",
     "text": [
      "a\n"
     ]
    }
   ],
   "source": [
    "fruit='banana'\n",
    "letter=fruit[1]\n",
    "print(letter)"
   ]
  },
  {
   "cell_type": "code",
   "execution_count": 11,
   "id": "0a655ee6",
   "metadata": {},
   "outputs": [
    {
     "name": "stdout",
     "output_type": "stream",
     "text": [
      "n\n"
     ]
    }
   ],
   "source": [
    "x=3\n",
    "w=fruit[x-1]\n",
    "print(w)"
   ]
  },
  {
   "cell_type": "code",
   "execution_count": 12,
   "id": "bd46c67e",
   "metadata": {},
   "outputs": [
    {
     "ename": "IndexError",
     "evalue": "string index out of range",
     "output_type": "error",
     "traceback": [
      "\u001b[1;31m---------------------------------------------------------------------------\u001b[0m",
      "\u001b[1;31mIndexError\u001b[0m                                Traceback (most recent call last)",
      "Cell \u001b[1;32mIn[12], line 2\u001b[0m\n\u001b[0;32m      1\u001b[0m zot\u001b[38;5;241m=\u001b[39m\u001b[38;5;124m'\u001b[39m\u001b[38;5;124mabc\u001b[39m\u001b[38;5;124m'\u001b[39m\n\u001b[1;32m----> 2\u001b[0m \u001b[38;5;28mprint\u001b[39m(zot[\u001b[38;5;241m5\u001b[39m])\n",
      "\u001b[1;31mIndexError\u001b[0m: string index out of range"
     ]
    }
   ],
   "source": [
    "zot='abc'\n",
    "print(zot[5])"
   ]
  },
  {
   "cell_type": "code",
   "execution_count": 13,
   "id": "53ae347f",
   "metadata": {},
   "outputs": [
    {
     "name": "stdout",
     "output_type": "stream",
     "text": [
      "6\n"
     ]
    }
   ],
   "source": [
    "fruit='banana'\n",
    "print(len(fruit))"
   ]
  },
  {
   "cell_type": "code",
   "execution_count": 14,
   "id": "d0b40e87",
   "metadata": {},
   "outputs": [
    {
     "name": "stdout",
     "output_type": "stream",
     "text": [
      "6\n"
     ]
    }
   ],
   "source": [
    "fruit='banana'\n",
    "x=(len(fruit))\n",
    "print(x)"
   ]
  },
  {
   "cell_type": "code",
   "execution_count": 15,
   "id": "ae5bdad0",
   "metadata": {},
   "outputs": [
    {
     "name": "stdout",
     "output_type": "stream",
     "text": [
      "0 b\n",
      "1 a\n",
      "2 n\n",
      "3 a\n",
      "4 n\n",
      "5 a\n"
     ]
    }
   ],
   "source": [
    "fruit='banana'\n",
    "index=0\n",
    "while index<len(fruit):\n",
    "    letter=fruit[index]\n",
    "    print(index,letter)\n",
    "    index=index+1"
   ]
  },
  {
   "cell_type": "code",
   "execution_count": 16,
   "id": "baac73ff",
   "metadata": {},
   "outputs": [
    {
     "name": "stdout",
     "output_type": "stream",
     "text": [
      "b\n",
      "a\n",
      "n\n",
      "a\n",
      "n\n",
      "a\n"
     ]
    }
   ],
   "source": [
    "fruit='banana'\n",
    "for letter in fruit:\n",
    "    print(letter)"
   ]
  },
  {
   "cell_type": "code",
   "execution_count": 17,
   "id": "e78fa186",
   "metadata": {},
   "outputs": [
    {
     "name": "stdout",
     "output_type": "stream",
     "text": [
      "b\n",
      "a\n",
      "n\n",
      "a\n",
      "n\n",
      "a\n",
      "b\n",
      "a\n",
      "n\n",
      "a\n",
      "n\n",
      "a\n"
     ]
    }
   ],
   "source": [
    "fruit='banana'\n",
    "for letter in fruit:\n",
    "    print(letter)\n",
    "index=0\n",
    "while index<len(fruit):\n",
    "    letter=fruit[index]\n",
    "    print(letter)\n",
    "    index=index+1"
   ]
  },
  {
   "cell_type": "code",
   "execution_count": 18,
   "id": "de869893",
   "metadata": {},
   "outputs": [
    {
     "name": "stdout",
     "output_type": "stream",
     "text": [
      "3\n"
     ]
    }
   ],
   "source": [
    "word='banana'\n",
    "count=0\n",
    "for letter in word:\n",
    "    if letter =='a':\n",
    "        count=count+1\n",
    "print(count)"
   ]
  },
  {
   "cell_type": "code",
   "execution_count": 19,
   "id": "88627488",
   "metadata": {},
   "outputs": [
    {
     "name": "stdout",
     "output_type": "stream",
     "text": [
      "b\n",
      "a\n",
      "n\n",
      "a\n",
      "n\n",
      "a\n"
     ]
    }
   ],
   "source": [
    "for letter in 'banana':\n",
    "    print(letter)"
   ]
  },
  {
   "cell_type": "code",
   "execution_count": 21,
   "id": "40788727",
   "metadata": {},
   "outputs": [
    {
     "name": "stdout",
     "output_type": "stream",
     "text": [
      "Mont\n"
     ]
    }
   ],
   "source": [
    "s='Monty Python'\n",
    "print(s[0:4])\n"
   ]
  },
  {
   "cell_type": "code",
   "execution_count": 23,
   "id": "c6adec21",
   "metadata": {},
   "outputs": [
    {
     "name": "stdout",
     "output_type": "stream",
     "text": [
      "P\n"
     ]
    }
   ],
   "source": [
    "\n",
    "print(s[6:7])"
   ]
  },
  {
   "cell_type": "code",
   "execution_count": 24,
   "id": "9b37175d",
   "metadata": {},
   "outputs": [
    {
     "name": "stdout",
     "output_type": "stream",
     "text": [
      "Python\n"
     ]
    }
   ],
   "source": [
    "print(s[6:20])"
   ]
  },
  {
   "cell_type": "code",
   "execution_count": 25,
   "id": "7b85030d",
   "metadata": {},
   "outputs": [
    {
     "name": "stdout",
     "output_type": "stream",
     "text": [
      "Mo\n"
     ]
    }
   ],
   "source": [
    "print(s[:2])"
   ]
  },
  {
   "cell_type": "code",
   "execution_count": 26,
   "id": "756bab1d",
   "metadata": {},
   "outputs": [
    {
     "name": "stdout",
     "output_type": "stream",
     "text": [
      "Mo\n"
     ]
    }
   ],
   "source": [
    "print(s[:2])"
   ]
  },
  {
   "cell_type": "code",
   "execution_count": 27,
   "id": "e29b09a1",
   "metadata": {},
   "outputs": [
    {
     "name": "stdout",
     "output_type": "stream",
     "text": [
      "thon\n"
     ]
    }
   ],
   "source": [
    "print(s[8:])"
   ]
  },
  {
   "cell_type": "code",
   "execution_count": 28,
   "id": "39c2f9dc",
   "metadata": {},
   "outputs": [
    {
     "name": "stdout",
     "output_type": "stream",
     "text": [
      "Monty Python\n"
     ]
    }
   ],
   "source": [
    "print(s[:])"
   ]
  },
  {
   "cell_type": "code",
   "execution_count": 29,
   "id": "0d294c12",
   "metadata": {},
   "outputs": [
    {
     "name": "stdout",
     "output_type": "stream",
     "text": [
      "HelloThere\n"
     ]
    }
   ],
   "source": [
    "a='Hello'\n",
    "b=a+'There'\n",
    "print(b)"
   ]
  },
  {
   "cell_type": "code",
   "execution_count": 30,
   "id": "2a7b7382",
   "metadata": {},
   "outputs": [
    {
     "name": "stdout",
     "output_type": "stream",
     "text": [
      "Hello There\n"
     ]
    }
   ],
   "source": [
    "c=a+' '+'There'\n",
    "print(c)"
   ]
  },
  {
   "cell_type": "code",
   "execution_count": 31,
   "id": "f914df22",
   "metadata": {},
   "outputs": [
    {
     "data": {
      "text/plain": [
       "True"
      ]
     },
     "execution_count": 31,
     "metadata": {},
     "output_type": "execute_result"
    }
   ],
   "source": [
    "fruit='banana'\n",
    "'n'in fruit\n",
    "True\n",
    "'m'in fruit\n",
    "False\n",
    "'nan'in fruit"
   ]
  },
  {
   "cell_type": "code",
   "execution_count": 32,
   "id": "d6123480",
   "metadata": {},
   "outputs": [
    {
     "name": "stdout",
     "output_type": "stream",
     "text": [
      "Found it!\n"
     ]
    }
   ],
   "source": [
    "if'a'in fruit:\n",
    "    print(\"Found it!\")"
   ]
  },
  {
   "cell_type": "code",
   "execution_count": 33,
   "id": "521a3a93",
   "metadata": {},
   "outputs": [
    {
     "name": "stdout",
     "output_type": "stream",
     "text": [
      "All right, bananas.\n",
      "All right,bananas.\n"
     ]
    }
   ],
   "source": [
    "#string comparison\n",
    "if word=='banana':\n",
    "    print('All right, bananas.')\n",
    "if word<'banana':\n",
    "    print('Your word,'+word+',comes before banana.')\n",
    "elif word>'banana':\n",
    "    print('Your word,'+word+',comes after banana.')\n",
    "else:\n",
    "    print('All right,bananas.')"
   ]
  },
  {
   "cell_type": "code",
   "execution_count": 34,
   "id": "d2066dd6",
   "metadata": {},
   "outputs": [
    {
     "name": "stdout",
     "output_type": "stream",
     "text": [
      "hello bob\n"
     ]
    }
   ],
   "source": [
    "greet=\"Hello Bob\"\n",
    "zap=greet.lower()\n",
    "print(zap)"
   ]
  },
  {
   "cell_type": "code",
   "execution_count": 37,
   "id": "60e49c47",
   "metadata": {},
   "outputs": [
    {
     "name": "stdout",
     "output_type": "stream",
     "text": [
      "Hello Bob\n"
     ]
    }
   ],
   "source": [
    "print(greet)\n",
    "\n"
   ]
  },
  {
   "cell_type": "code",
   "execution_count": 38,
   "id": "6bf93beb",
   "metadata": {},
   "outputs": [
    {
     "name": "stdout",
     "output_type": "stream",
     "text": [
      "hi there\n"
     ]
    }
   ],
   "source": [
    "print('Hi There'.lower())"
   ]
  },
  {
   "cell_type": "code",
   "execution_count": 39,
   "id": "4ac73fb2",
   "metadata": {},
   "outputs": [
    {
     "data": {
      "text/plain": [
       "'Hello Bob '"
      ]
     },
     "execution_count": 39,
     "metadata": {},
     "output_type": "execute_result"
    }
   ],
   "source": [
    "greet=' Hello Bob '\n",
    "greet.lstrip()"
   ]
  },
  {
   "cell_type": "code",
   "execution_count": 41,
   "id": "2aa1f785",
   "metadata": {},
   "outputs": [
    {
     "name": "stdout",
     "output_type": "stream",
     "text": [
      "2\n"
     ]
    }
   ],
   "source": [
    "fruit='banana'\n",
    "pos=fruit.find('na')\n",
    "print(pos)"
   ]
  },
  {
   "cell_type": "code",
   "execution_count": 42,
   "id": "db9fb93a",
   "metadata": {},
   "outputs": [
    {
     "name": "stdout",
     "output_type": "stream",
     "text": [
      "-1\n"
     ]
    }
   ],
   "source": [
    "aa=fruit.find('z')\n",
    "print(aa)"
   ]
  },
  {
   "cell_type": "code",
   "execution_count": 43,
   "id": "8e7353ae",
   "metadata": {},
   "outputs": [
    {
     "name": "stdout",
     "output_type": "stream",
     "text": [
      "HELLO BOB\n"
     ]
    }
   ],
   "source": [
    "greet='Hello Bob'\n",
    "nnn=greet.upper()\n",
    "print(nnn)"
   ]
  },
  {
   "cell_type": "code",
   "execution_count": 46,
   "id": "b6ec9866",
   "metadata": {},
   "outputs": [
    {
     "data": {
      "text/plain": [
       "True"
      ]
     },
     "execution_count": 46,
     "metadata": {},
     "output_type": "execute_result"
    }
   ],
   "source": [
    "line='Please have a nice day'\n",
    "line.startswith(\"Please\")"
   ]
  },
  {
   "cell_type": "code",
   "execution_count": 47,
   "id": "2710ad4a",
   "metadata": {},
   "outputs": [
    {
     "data": {
      "text/plain": [
       "False"
      ]
     },
     "execution_count": 47,
     "metadata": {},
     "output_type": "execute_result"
    }
   ],
   "source": [
    "line.startswith('p')"
   ]
  },
  {
   "cell_type": "code",
   "execution_count": null,
   "id": "ce9e96b8",
   "metadata": {},
   "outputs": [],
   "source": []
  }
 ],
 "metadata": {
  "kernelspec": {
   "display_name": "Python 3 (ipykernel)",
   "language": "python",
   "name": "python3"
  },
  "language_info": {
   "codemirror_mode": {
    "name": "ipython",
    "version": 3
   },
   "file_extension": ".py",
   "mimetype": "text/x-python",
   "name": "python",
   "nbconvert_exporter": "python",
   "pygments_lexer": "ipython3",
   "version": "3.11.4"
  }
 },
 "nbformat": 4,
 "nbformat_minor": 5
}
